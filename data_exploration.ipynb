{
 "cells": [
  {
   "cell_type": "code",
   "execution_count": 1,
   "metadata": {},
   "outputs": [],
   "source": [
    "import gym\n",
    "import time\n",
    "import tqdm\n",
    "import textworld.gym\n",
    "\n",
    "import numpy as np\n",
    "\n",
    "from glob import glob\n",
    "from pprint import pprint\n",
    "from textworld import EnvInfos\n",
    "from numpy.random import RandomState\n",
    "\n",
    "from os.path import join as pjoin"
   ]
  },
  {
   "cell_type": "code",
   "execution_count": 2,
   "metadata": {},
   "outputs": [
    {
     "name": "stdout",
     "output_type": "stream",
     "text": [
      "Found 10 games.\n"
     ]
    }
   ],
   "source": [
    "GAMES_PATH = \"sample_games\"  # This assumes `sample_games.zip` was first unzipped.\n",
    "gamefiles = glob(pjoin(GAMES_PATH, \"*.ulx\"))\n",
    "print(\"Found {} games.\".format(len(gamefiles)))"
   ]
  },
  {
   "cell_type": "code",
   "execution_count": 3,
   "metadata": {},
   "outputs": [],
   "source": [
    "gamefile = gamefiles[0]  # Pick a game.\n",
    "\n",
    "requested_infos = EnvInfos(\n",
    "    description=True, \n",
    "    inventory=True,\n",
    "    max_score=True,\n",
    "    has_won=True,\n",
    "    has_lost=True,\n",
    "    objective=True,\n",
    "    entities=True,\n",
    "    verbs=True,\n",
    "    command_templates=True,\n",
    "    admissible_commands=True,\n",
    "    extras=[\n",
    "    \"recipe\", \n",
    "    \"walkthrough\",\n",
    "])\n",
    "\n",
    "env_id = textworld.gym.register_games([gamefile], requested_infos)\n",
    "env = gym.make(env_id)\n",
    "obs, infos = env.reset()\n",
    "env.close()"
   ]
  },
  {
   "cell_type": "code",
   "execution_count": 4,
   "metadata": {},
   "outputs": [
    {
     "name": "stdout",
     "output_type": "stream",
     "text": [
      "('-= Garden =-\\n'\n",
      " 'Well, here we are in a garden.\\n'\n",
      " '\\n'\n",
      " '\\n'\n",
      " '\\n'\n",
      " 'There is an exit to the south.\\n'\n",
      " '\\n'\n",
      " '\\n')\n"
     ]
    }
   ],
   "source": [
    "pprint(infos[\"description\"])"
   ]
  },
  {
   "cell_type": "code",
   "execution_count": 5,
   "metadata": {},
   "outputs": [
    {
     "name": "stdout",
     "output_type": "stream",
     "text": [
      "['chop {f} with {o}',\n",
      " 'close {c}',\n",
      " 'close {d}',\n",
      " 'cook {f} with {oven}',\n",
      " 'cook {f} with {stove}',\n",
      " 'cook {f} with {toaster}',\n",
      " 'dice {f} with {o}',\n",
      " 'drink {f}',\n",
      " 'drop {o}',\n",
      " 'eat {f}',\n",
      " 'examine {o}',\n",
      " 'examine {t}',\n",
      " 'go east',\n",
      " 'go north',\n",
      " 'go south',\n",
      " 'go west',\n",
      " 'insert {o} into {c}',\n",
      " 'inventory',\n",
      " 'lock {c} with {k}',\n",
      " 'lock {d} with {k}',\n",
      " 'look',\n",
      " 'open {c}',\n",
      " 'open {d}',\n",
      " 'prepare meal',\n",
      " 'put {o} on {s}',\n",
      " 'slice {f} with {o}',\n",
      " 'take {o}',\n",
      " 'take {o} from {c}',\n",
      " 'take {o} from {s}',\n",
      " 'unlock {c} with {k}',\n",
      " 'unlock {d} with {k}']\n"
     ]
    }
   ],
   "source": [
    "pprint(infos[\"command_templates\"])"
   ]
  },
  {
   "cell_type": "code",
   "execution_count": 6,
   "metadata": {},
   "outputs": [
    {
     "name": "stdout",
     "output_type": "stream",
     "text": [
      "['drop red hot pepper',\n",
      " 'drop red onion',\n",
      " 'drop red potato',\n",
      " 'drop salt',\n",
      " 'drop yellow bell pepper',\n",
      " 'drop yellow potato',\n",
      " 'eat red hot pepper',\n",
      " 'eat red onion',\n",
      " 'eat salt',\n",
      " 'eat yellow bell pepper',\n",
      " 'go south',\n",
      " 'look']\n"
     ]
    }
   ],
   "source": [
    "pprint(infos[\"admissible_commands\"])"
   ]
  },
  {
   "cell_type": "code",
   "execution_count": 7,
   "metadata": {},
   "outputs": [
    {
     "name": "stdout",
     "output_type": "stream",
     "text": [
      "('\\n'\n",
      " 'Recipe #1\\n'\n",
      " '---------\\n'\n",
      " 'Gather all following ingredients and follow the directions to prepare this '\n",
      " 'tasty meal.\\n'\n",
      " '\\n'\n",
      " 'Ingredients:\\n'\n",
      " '  red hot pepper\\n'\n",
      " '  salt\\n'\n",
      " '  yellow potato\\n'\n",
      " '\\n'\n",
      " 'Directions:\\n'\n",
      " '  slice the red hot pepper\\n'\n",
      " '  slice the yellow potato\\n'\n",
      " '  grill the yellow potato\\n'\n",
      " '  prepare meal\\n')\n"
     ]
    }
   ],
   "source": [
    "pprint(infos[\"extra.recipe\"])"
   ]
  },
  {
   "cell_type": "code",
   "execution_count": 12,
   "metadata": {},
   "outputs": [
    {
     "name": "stdout",
     "output_type": "stream",
     "text": [
      "['drop red onion',\n",
      " 'drop yellow bell pepper',\n",
      " 'drop red potato',\n",
      " 'go south',\n",
      " 'open sliding patio door',\n",
      " 'go south',\n",
      " 'go south',\n",
      " 'go east',\n",
      " 'go west',\n",
      " 'go north',\n",
      " 'open sliding patio door',\n",
      " 'go north',\n",
      " 'cook yellow potato with BBQ',\n",
      " 'open sliding patio door',\n",
      " 'go south',\n",
      " 'go south',\n",
      " 'go east',\n",
      " 'drop salt',\n",
      " 'take knife from table',\n",
      " 'slice red hot pepper with knife',\n",
      " 'drop knife',\n",
      " 'take salt',\n",
      " 'drop red hot pepper',\n",
      " 'take knife',\n",
      " 'slice yellow potato with knife',\n",
      " 'drop knife',\n",
      " 'take red hot pepper',\n",
      " 'prepare meal',\n",
      " 'eat meal']\n"
     ]
    }
   ],
   "source": [
    "pprint(infos[\"extra.walkthrough\"])"
   ]
  },
  {
   "cell_type": "code",
   "execution_count": 13,
   "metadata": {},
   "outputs": [
    {
     "name": "stdout",
     "output_type": "stream",
     "text": [
      "['chop',\n",
      " 'close',\n",
      " 'cook',\n",
      " 'dice',\n",
      " 'drink',\n",
      " 'drop',\n",
      " 'eat',\n",
      " 'examine',\n",
      " 'go',\n",
      " 'insert',\n",
      " 'inventory',\n",
      " 'lock',\n",
      " 'look',\n",
      " 'open',\n",
      " 'prepare',\n",
      " 'put',\n",
      " 'slice',\n",
      " 'take',\n",
      " 'unlock']\n"
     ]
    }
   ],
   "source": [
    "pprint(infos[\"verbs\"])"
   ]
  }
 ],
 "metadata": {
  "kernelspec": {
   "display_name": "Python 3",
   "language": "python",
   "name": "python3"
  },
  "language_info": {
   "codemirror_mode": {
    "name": "ipython",
    "version": 3
   },
   "file_extension": ".py",
   "mimetype": "text/x-python",
   "name": "python",
   "nbconvert_exporter": "python",
   "pygments_lexer": "ipython3",
   "version": "3.5.2"
  }
 },
 "nbformat": 4,
 "nbformat_minor": 2
}
